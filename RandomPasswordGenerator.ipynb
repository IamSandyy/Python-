{
 "cells": [
  {
   "cell_type": "code",
   "execution_count": 4,
   "id": "cd4b8d49-92b0-4a29-ab16-119dacb409a4",
   "metadata": {},
   "outputs": [
    {
     "name": "stdin",
     "output_type": "stream",
     "text": [
      "Number of password wants? 10\n",
      "Length of the password: 8\n"
     ]
    },
    {
     "name": "stdout",
     "output_type": "stream",
     "text": [
      "NcGrgGmL\n",
      "5wr8qK?m\n",
      "%aMI91u1\n",
      "mT6u%jps\n",
      "q^&1XxPH\n",
      "FRY9JCut\n",
      "NtY3ZLn7\n",
      "6I294sIS\n",
      "iHDtjhyr\n",
      "7aOxX6dQ\n"
     ]
    }
   ],
   "source": [
    "import random \n",
    "charecters=\"ABCDEFGHIJKLMNOPQRSTWUVXYZabcdefghijklmnopqrstwuvxyz1234567890!@#$%^&*?\"\n",
    "nbrofpwd=int(input(\"Number of password wants?\"))\n",
    "length=int(input(\"Length of the password:\"))\n",
    "for i in range(nbrofpwd):\n",
    "    pwd=\"\"\n",
    "    for x in range(length):\n",
    "        pwd=pwd+random.choice(charecters)\n",
    "    print(pwd)    \n",
    "             "
   ]
  },
  {
   "cell_type": "code",
   "execution_count": null,
   "id": "e97a8aa2-b8f6-4e77-ba18-a77c503dba42",
   "metadata": {},
   "outputs": [],
   "source": []
  }
 ],
 "metadata": {
  "kernelspec": {
   "display_name": "Python 3 (ipykernel)",
   "language": "python",
   "name": "python3"
  },
  "language_info": {
   "codemirror_mode": {
    "name": "ipython",
    "version": 3
   },
   "file_extension": ".py",
   "mimetype": "text/x-python",
   "name": "python",
   "nbconvert_exporter": "python",
   "pygments_lexer": "ipython3",
   "version": "3.10.11"
  }
 },
 "nbformat": 4,
 "nbformat_minor": 5
}
